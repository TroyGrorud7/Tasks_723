{
 "cells": [
  {
   "cell_type": "code",
   "execution_count": 6,
   "metadata": {},
   "outputs": [
    {
     "name": "stdout",
     "output_type": "stream",
     "text": [
      "[0, 0, 1, 1, 2, 2, 6]\n"
     ]
    }
   ],
   "source": [
    "from array import *\n",
    "def sort_array():\n",
    "    arr=array ('i', [1,2,0,1,2,0])\n",
    "    sal= []\n",
    "    for ar in sorted(arr):\n",
    "        sal.append(ar)\n",
    "    print(sal)\n",
    "\n",
    "sort_array()\n",
    "    \n"
   ]
  }
 ],
 "metadata": {
  "kernelspec": {
   "display_name": "Python 3",
   "language": "python",
   "name": "python3"
  },
  "language_info": {
   "codemirror_mode": {
    "name": "ipython",
    "version": 3
   },
   "file_extension": ".py",
   "mimetype": "text/x-python",
   "name": "python",
   "nbconvert_exporter": "python",
   "pygments_lexer": "ipython3",
   "version": "3.11.6"
  }
 },
 "nbformat": 4,
 "nbformat_minor": 2
}
